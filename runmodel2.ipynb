{
 "cells": [
  {
   "cell_type": "code",
   "execution_count": 1,
   "metadata": {},
   "outputs": [],
   "source": [
    "import utils.datareader as datareader\n",
    "import utils.visualizer as visualizer\n",
    "from models.transformer import *"
   ]
  },
  {
   "cell_type": "code",
   "execution_count": 2,
   "metadata": {},
   "outputs": [],
   "source": [
    "datafolder = 'C://Users//marku//Desktop//krafthack_files'\n",
    "\n",
    "targets = [f'Bolt_{n+1}_Tensile' for n in range(6)]\n",
    "learning_rate = 3e-3 # optimizer\n",
    "learning_rate_annealing = 0.1 # how much the learning rate is annealed every episode\n",
    "episodes = 5000 # how often it is iterated over the entire dataset\n",
    "inputlength = 100\n",
    "batchsize = 50\n"
   ]
  },
  {
   "cell_type": "markdown",
   "metadata": {},
   "source": [
    "Read and scale datasets:"
   ]
  },
  {
   "cell_type": "code",
   "execution_count": 3,
   "metadata": {},
   "outputs": [],
   "source": [
    "df, dfT = datareader.df_from_folder(datafolder)\n",
    "df, dfT, scaler = datareader.normalize_input(df, dfT)\n",
    "\n",
    "features = list(dfT.columns) # find features"
   ]
  },
  {
   "cell_type": "markdown",
   "metadata": {},
   "source": [
    "Remove overhead data, find the nan timestamps and mask nans:"
   ]
  },
  {
   "cell_type": "code",
   "execution_count": 4,
   "metadata": {},
   "outputs": [],
   "source": [
    "# remove overhead:\n",
    "df = df[targets+features] \n",
    "# find nan timestamps:\n",
    "nans = np.array(df[targets].isna().product(1)) * np.arange(df.shape[0]) \n",
    "nans = nans[nans != 0]\n",
    "# mask nans:\n",
    "df = df.fillna(0)\n",
    "dfT = dfT.fillna(0)"
   ]
  },
  {
   "cell_type": "markdown",
   "metadata": {},
   "source": [
    "Set up model:"
   ]
  },
  {
   "cell_type": "code",
   "execution_count": 5,
   "metadata": {},
   "outputs": [],
   "source": [
    "net = Network(df.shape[1], len(targets), maxlen=inputlength)\n",
    "net.train() # starting in training mode\n",
    "optim = torch.optim.Adam(net.parameters(), lr=learning_rate)\n",
    "loss_fn = nn.MSELoss()"
   ]
  },
  {
   "cell_type": "code",
   "execution_count": 8,
   "metadata": {},
   "outputs": [
    {
     "name": "stdout",
     "output_type": "stream",
     "text": [
      "episode 1: 4.664834976196289\n"
     ]
    },
    {
     "ename": "KeyboardInterrupt",
     "evalue": "",
     "output_type": "error",
     "traceback": [
      "\u001b[1;31m---------------------------------------------------------------------------\u001b[0m",
      "\u001b[1;31mKeyboardInterrupt\u001b[0m                         Traceback (most recent call last)",
      "\u001b[1;32mc:\\Users\\marku\\Documents\\GitHub\\krafthack\\runmodel2.ipynb Cell 9'\u001b[0m in \u001b[0;36m<cell line: 3>\u001b[1;34m()\u001b[0m\n\u001b[0;32m      <a href='vscode-notebook-cell:/c%3A/Users/marku/Documents/GitHub/krafthack/runmodel2.ipynb#ch0000008?line=4'>5</a>\u001b[0m net\u001b[39m.\u001b[39mzero_grad() \n\u001b[0;32m      <a href='vscode-notebook-cell:/c%3A/Users/marku/Documents/GitHub/krafthack/runmodel2.ipynb#ch0000008?line=5'>6</a>\u001b[0m \u001b[39m# sample a batch:\u001b[39;00m\n\u001b[1;32m----> <a href='vscode-notebook-cell:/c%3A/Users/marku/Documents/GitHub/krafthack/runmodel2.ipynb#ch0000008?line=6'>7</a>\u001b[0m x, y \u001b[39m=\u001b[39m sample(df, nans, targets, inputlength, batchsize, device\u001b[39m=\u001b[39;49mnet\u001b[39m.\u001b[39;49mdevice)\n\u001b[0;32m      <a href='vscode-notebook-cell:/c%3A/Users/marku/Documents/GitHub/krafthack/runmodel2.ipynb#ch0000008?line=7'>8</a>\u001b[0m \u001b[39m# predict:\u001b[39;00m\n\u001b[0;32m      <a href='vscode-notebook-cell:/c%3A/Users/marku/Documents/GitHub/krafthack/runmodel2.ipynb#ch0000008?line=8'>9</a>\u001b[0m y_pred \u001b[39m=\u001b[39m net(x)      \n",
      "File \u001b[1;32mc:\\Users\\marku\\Documents\\GitHub\\krafthack\\models\\transformer.py:61\u001b[0m, in \u001b[0;36msample\u001b[1;34m(data, nans, targets, inputlength, batchsize, device, importance)\u001b[0m\n\u001b[0;32m     <a href='file:///c%3A/Users/marku/Documents/GitHub/krafthack/models/transformer.py?line=58'>59</a>\u001b[0m i \u001b[39m=\u001b[39m np\u001b[39m.\u001b[39mrandom\u001b[39m.\u001b[39mchoice(indexes, batchsize, p\u001b[39m=\u001b[39mprobabilities, replace\u001b[39m=\u001b[39m\u001b[39mFalse\u001b[39;00m) \u001b[39m# chosen indexes\u001b[39;00m\n\u001b[0;32m     <a href='file:///c%3A/Users/marku/Documents/GitHub/krafthack/models/transformer.py?line=59'>60</a>\u001b[0m \u001b[39m# get the sampled dataframe:\u001b[39;00m\n\u001b[1;32m---> <a href='file:///c%3A/Users/marku/Documents/GitHub/krafthack/models/transformer.py?line=60'>61</a>\u001b[0m x \u001b[39m=\u001b[39m torch\u001b[39m.\u001b[39mtensor([data\u001b[39m.\u001b[39miloc[ii:ii\u001b[39m+\u001b[39minputlength]\u001b[39m.\u001b[39mto_numpy() \u001b[39mfor\u001b[39;00m ii \u001b[39min\u001b[39;00m i], dtype\u001b[39m=\u001b[39mtorch\u001b[39m.\u001b[39mfloat)\u001b[39m.\u001b[39mto(device)\n\u001b[0;32m     <a href='file:///c%3A/Users/marku/Documents/GitHub/krafthack/models/transformer.py?line=61'>62</a>\u001b[0m y \u001b[39m=\u001b[39m torch\u001b[39m.\u001b[39mtensor([data\u001b[39m.\u001b[39miloc[ii\u001b[39m+\u001b[39minputlength:ii\u001b[39m+\u001b[39minputlength\u001b[39m+\u001b[39m\u001b[39m1\u001b[39m][targets]\u001b[39m.\u001b[39mto_numpy() \u001b[39mfor\u001b[39;00m ii \u001b[39min\u001b[39;00m i], dtype\u001b[39m=\u001b[39mtorch\u001b[39m.\u001b[39mfloat)\u001b[39m.\u001b[39mto(device)\n\u001b[0;32m     <a href='file:///c%3A/Users/marku/Documents/GitHub/krafthack/models/transformer.py?line=62'>63</a>\u001b[0m \u001b[39mreturn\u001b[39;00m x, y\n",
      "File \u001b[1;32mc:\\Users\\marku\\Documents\\GitHub\\krafthack\\models\\transformer.py:61\u001b[0m, in \u001b[0;36m<listcomp>\u001b[1;34m(.0)\u001b[0m\n\u001b[0;32m     <a href='file:///c%3A/Users/marku/Documents/GitHub/krafthack/models/transformer.py?line=58'>59</a>\u001b[0m i \u001b[39m=\u001b[39m np\u001b[39m.\u001b[39mrandom\u001b[39m.\u001b[39mchoice(indexes, batchsize, p\u001b[39m=\u001b[39mprobabilities, replace\u001b[39m=\u001b[39m\u001b[39mFalse\u001b[39;00m) \u001b[39m# chosen indexes\u001b[39;00m\n\u001b[0;32m     <a href='file:///c%3A/Users/marku/Documents/GitHub/krafthack/models/transformer.py?line=59'>60</a>\u001b[0m \u001b[39m# get the sampled dataframe:\u001b[39;00m\n\u001b[1;32m---> <a href='file:///c%3A/Users/marku/Documents/GitHub/krafthack/models/transformer.py?line=60'>61</a>\u001b[0m x \u001b[39m=\u001b[39m torch\u001b[39m.\u001b[39mtensor([data\u001b[39m.\u001b[39;49miloc[ii:ii\u001b[39m+\u001b[39;49minputlength]\u001b[39m.\u001b[39;49mto_numpy() \u001b[39mfor\u001b[39;00m ii \u001b[39min\u001b[39;00m i], dtype\u001b[39m=\u001b[39mtorch\u001b[39m.\u001b[39mfloat)\u001b[39m.\u001b[39mto(device)\n\u001b[0;32m     <a href='file:///c%3A/Users/marku/Documents/GitHub/krafthack/models/transformer.py?line=61'>62</a>\u001b[0m y \u001b[39m=\u001b[39m torch\u001b[39m.\u001b[39mtensor([data\u001b[39m.\u001b[39miloc[ii\u001b[39m+\u001b[39minputlength:ii\u001b[39m+\u001b[39minputlength\u001b[39m+\u001b[39m\u001b[39m1\u001b[39m][targets]\u001b[39m.\u001b[39mto_numpy() \u001b[39mfor\u001b[39;00m ii \u001b[39min\u001b[39;00m i], dtype\u001b[39m=\u001b[39mtorch\u001b[39m.\u001b[39mfloat)\u001b[39m.\u001b[39mto(device)\n\u001b[0;32m     <a href='file:///c%3A/Users/marku/Documents/GitHub/krafthack/models/transformer.py?line=62'>63</a>\u001b[0m \u001b[39mreturn\u001b[39;00m x, y\n",
      "File \u001b[1;32m~\\.conda\\envs\\krafthack\\lib\\site-packages\\pandas\\core\\frame.py:1754\u001b[0m, in \u001b[0;36mDataFrame.to_numpy\u001b[1;34m(self, dtype, copy, na_value)\u001b[0m\n\u001b[0;32m   <a href='file:///c%3A/Users/marku/.conda/envs/krafthack/lib/site-packages/pandas/core/frame.py?line=1693'>1694</a>\u001b[0m \u001b[39mdef\u001b[39;00m \u001b[39mto_numpy\u001b[39m(\n\u001b[0;32m   <a href='file:///c%3A/Users/marku/.conda/envs/krafthack/lib/site-packages/pandas/core/frame.py?line=1694'>1695</a>\u001b[0m     \u001b[39mself\u001b[39m,\n\u001b[0;32m   <a href='file:///c%3A/Users/marku/.conda/envs/krafthack/lib/site-packages/pandas/core/frame.py?line=1695'>1696</a>\u001b[0m     dtype: npt\u001b[39m.\u001b[39mDTypeLike \u001b[39m|\u001b[39m \u001b[39mNone\u001b[39;00m \u001b[39m=\u001b[39m \u001b[39mNone\u001b[39;00m,\n\u001b[0;32m   <a href='file:///c%3A/Users/marku/.conda/envs/krafthack/lib/site-packages/pandas/core/frame.py?line=1696'>1697</a>\u001b[0m     copy: \u001b[39mbool\u001b[39m \u001b[39m=\u001b[39m \u001b[39mFalse\u001b[39;00m,\n\u001b[0;32m   <a href='file:///c%3A/Users/marku/.conda/envs/krafthack/lib/site-packages/pandas/core/frame.py?line=1697'>1698</a>\u001b[0m     na_value\u001b[39m=\u001b[39mlib\u001b[39m.\u001b[39mno_default,\n\u001b[0;32m   <a href='file:///c%3A/Users/marku/.conda/envs/krafthack/lib/site-packages/pandas/core/frame.py?line=1698'>1699</a>\u001b[0m ) \u001b[39m-\u001b[39m\u001b[39m>\u001b[39m np\u001b[39m.\u001b[39mndarray:\n\u001b[0;32m   <a href='file:///c%3A/Users/marku/.conda/envs/krafthack/lib/site-packages/pandas/core/frame.py?line=1699'>1700</a>\u001b[0m     \u001b[39m\"\"\"\u001b[39;00m\n\u001b[0;32m   <a href='file:///c%3A/Users/marku/.conda/envs/krafthack/lib/site-packages/pandas/core/frame.py?line=1700'>1701</a>\u001b[0m \u001b[39m    Convert the DataFrame to a NumPy array.\u001b[39;00m\n\u001b[0;32m   <a href='file:///c%3A/Users/marku/.conda/envs/krafthack/lib/site-packages/pandas/core/frame.py?line=1701'>1702</a>\u001b[0m \n\u001b[1;32m   (...)\u001b[0m\n\u001b[0;32m   <a href='file:///c%3A/Users/marku/.conda/envs/krafthack/lib/site-packages/pandas/core/frame.py?line=1751'>1752</a>\u001b[0m \u001b[39m           [2, 4.5, Timestamp('2000-01-02 00:00:00')]], dtype=object)\u001b[39;00m\n\u001b[0;32m   <a href='file:///c%3A/Users/marku/.conda/envs/krafthack/lib/site-packages/pandas/core/frame.py?line=1752'>1753</a>\u001b[0m \u001b[39m    \"\"\"\u001b[39;00m\n\u001b[1;32m-> <a href='file:///c%3A/Users/marku/.conda/envs/krafthack/lib/site-packages/pandas/core/frame.py?line=1753'>1754</a>\u001b[0m     \u001b[39mself\u001b[39;49m\u001b[39m.\u001b[39;49m_consolidate_inplace()\n\u001b[0;32m   <a href='file:///c%3A/Users/marku/.conda/envs/krafthack/lib/site-packages/pandas/core/frame.py?line=1754'>1755</a>\u001b[0m     \u001b[39mif\u001b[39;00m dtype \u001b[39mis\u001b[39;00m \u001b[39mnot\u001b[39;00m \u001b[39mNone\u001b[39;00m:\n\u001b[0;32m   <a href='file:///c%3A/Users/marku/.conda/envs/krafthack/lib/site-packages/pandas/core/frame.py?line=1755'>1756</a>\u001b[0m         dtype \u001b[39m=\u001b[39m np\u001b[39m.\u001b[39mdtype(dtype)\n",
      "File \u001b[1;32m~\\.conda\\envs\\krafthack\\lib\\site-packages\\pandas\\core\\generic.py:5661\u001b[0m, in \u001b[0;36mNDFrame._consolidate_inplace\u001b[1;34m(self)\u001b[0m\n\u001b[0;32m   <a href='file:///c%3A/Users/marku/.conda/envs/krafthack/lib/site-packages/pandas/core/generic.py?line=5657'>5658</a>\u001b[0m \u001b[39mdef\u001b[39;00m \u001b[39mf\u001b[39m():\n\u001b[0;32m   <a href='file:///c%3A/Users/marku/.conda/envs/krafthack/lib/site-packages/pandas/core/generic.py?line=5658'>5659</a>\u001b[0m     \u001b[39mself\u001b[39m\u001b[39m.\u001b[39m_mgr \u001b[39m=\u001b[39m \u001b[39mself\u001b[39m\u001b[39m.\u001b[39m_mgr\u001b[39m.\u001b[39mconsolidate()\n\u001b[1;32m-> <a href='file:///c%3A/Users/marku/.conda/envs/krafthack/lib/site-packages/pandas/core/generic.py?line=5660'>5661</a>\u001b[0m \u001b[39mself\u001b[39;49m\u001b[39m.\u001b[39;49m_protect_consolidate(f)\n",
      "File \u001b[1;32m~\\.conda\\envs\\krafthack\\lib\\site-packages\\pandas\\core\\generic.py:5649\u001b[0m, in \u001b[0;36mNDFrame._protect_consolidate\u001b[1;34m(self, f)\u001b[0m\n\u001b[0;32m   <a href='file:///c%3A/Users/marku/.conda/envs/krafthack/lib/site-packages/pandas/core/generic.py?line=5646'>5647</a>\u001b[0m     \u001b[39mreturn\u001b[39;00m f()\n\u001b[0;32m   <a href='file:///c%3A/Users/marku/.conda/envs/krafthack/lib/site-packages/pandas/core/generic.py?line=5647'>5648</a>\u001b[0m blocks_before \u001b[39m=\u001b[39m \u001b[39mlen\u001b[39m(\u001b[39mself\u001b[39m\u001b[39m.\u001b[39m_mgr\u001b[39m.\u001b[39mblocks)\n\u001b[1;32m-> <a href='file:///c%3A/Users/marku/.conda/envs/krafthack/lib/site-packages/pandas/core/generic.py?line=5648'>5649</a>\u001b[0m result \u001b[39m=\u001b[39m f()\n\u001b[0;32m   <a href='file:///c%3A/Users/marku/.conda/envs/krafthack/lib/site-packages/pandas/core/generic.py?line=5649'>5650</a>\u001b[0m \u001b[39mif\u001b[39;00m \u001b[39mlen\u001b[39m(\u001b[39mself\u001b[39m\u001b[39m.\u001b[39m_mgr\u001b[39m.\u001b[39mblocks) \u001b[39m!=\u001b[39m blocks_before:\n\u001b[0;32m   <a href='file:///c%3A/Users/marku/.conda/envs/krafthack/lib/site-packages/pandas/core/generic.py?line=5650'>5651</a>\u001b[0m     \u001b[39mself\u001b[39m\u001b[39m.\u001b[39m_clear_item_cache()\n",
      "File \u001b[1;32m~\\.conda\\envs\\krafthack\\lib\\site-packages\\pandas\\core\\generic.py:5659\u001b[0m, in \u001b[0;36mNDFrame._consolidate_inplace.<locals>.f\u001b[1;34m()\u001b[0m\n\u001b[0;32m   <a href='file:///c%3A/Users/marku/.conda/envs/krafthack/lib/site-packages/pandas/core/generic.py?line=5657'>5658</a>\u001b[0m \u001b[39mdef\u001b[39;00m \u001b[39mf\u001b[39m():\n\u001b[1;32m-> <a href='file:///c%3A/Users/marku/.conda/envs/krafthack/lib/site-packages/pandas/core/generic.py?line=5658'>5659</a>\u001b[0m     \u001b[39mself\u001b[39m\u001b[39m.\u001b[39m_mgr \u001b[39m=\u001b[39m \u001b[39mself\u001b[39;49m\u001b[39m.\u001b[39;49m_mgr\u001b[39m.\u001b[39;49mconsolidate()\n",
      "File \u001b[1;32m~\\.conda\\envs\\krafthack\\lib\\site-packages\\pandas\\core\\internals\\managers.py:631\u001b[0m, in \u001b[0;36mBaseBlockManager.consolidate\u001b[1;34m(self)\u001b[0m\n\u001b[0;32m    <a href='file:///c%3A/Users/marku/.conda/envs/krafthack/lib/site-packages/pandas/core/internals/managers.py?line=628'>629</a>\u001b[0m bm \u001b[39m=\u001b[39m \u001b[39mtype\u001b[39m(\u001b[39mself\u001b[39m)(\u001b[39mself\u001b[39m\u001b[39m.\u001b[39mblocks, \u001b[39mself\u001b[39m\u001b[39m.\u001b[39maxes, verify_integrity\u001b[39m=\u001b[39m\u001b[39mFalse\u001b[39;00m)\n\u001b[0;32m    <a href='file:///c%3A/Users/marku/.conda/envs/krafthack/lib/site-packages/pandas/core/internals/managers.py?line=629'>630</a>\u001b[0m bm\u001b[39m.\u001b[39m_is_consolidated \u001b[39m=\u001b[39m \u001b[39mFalse\u001b[39;00m\n\u001b[1;32m--> <a href='file:///c%3A/Users/marku/.conda/envs/krafthack/lib/site-packages/pandas/core/internals/managers.py?line=630'>631</a>\u001b[0m bm\u001b[39m.\u001b[39;49m_consolidate_inplace()\n\u001b[0;32m    <a href='file:///c%3A/Users/marku/.conda/envs/krafthack/lib/site-packages/pandas/core/internals/managers.py?line=631'>632</a>\u001b[0m \u001b[39mreturn\u001b[39;00m bm\n",
      "File \u001b[1;32m~\\.conda\\envs\\krafthack\\lib\\site-packages\\pandas\\core\\internals\\managers.py:1685\u001b[0m, in \u001b[0;36mBlockManager._consolidate_inplace\u001b[1;34m(self)\u001b[0m\n\u001b[0;32m   <a href='file:///c%3A/Users/marku/.conda/envs/krafthack/lib/site-packages/pandas/core/internals/managers.py?line=1682'>1683</a>\u001b[0m \u001b[39mdef\u001b[39;00m \u001b[39m_consolidate_inplace\u001b[39m(\u001b[39mself\u001b[39m) \u001b[39m-\u001b[39m\u001b[39m>\u001b[39m \u001b[39mNone\u001b[39;00m:\n\u001b[0;32m   <a href='file:///c%3A/Users/marku/.conda/envs/krafthack/lib/site-packages/pandas/core/internals/managers.py?line=1683'>1684</a>\u001b[0m     \u001b[39mif\u001b[39;00m \u001b[39mnot\u001b[39;00m \u001b[39mself\u001b[39m\u001b[39m.\u001b[39mis_consolidated():\n\u001b[1;32m-> <a href='file:///c%3A/Users/marku/.conda/envs/krafthack/lib/site-packages/pandas/core/internals/managers.py?line=1684'>1685</a>\u001b[0m         \u001b[39mself\u001b[39m\u001b[39m.\u001b[39mblocks \u001b[39m=\u001b[39m \u001b[39mtuple\u001b[39m(_consolidate(\u001b[39mself\u001b[39;49m\u001b[39m.\u001b[39;49mblocks))\n\u001b[0;32m   <a href='file:///c%3A/Users/marku/.conda/envs/krafthack/lib/site-packages/pandas/core/internals/managers.py?line=1685'>1686</a>\u001b[0m         \u001b[39mself\u001b[39m\u001b[39m.\u001b[39m_is_consolidated \u001b[39m=\u001b[39m \u001b[39mTrue\u001b[39;00m\n\u001b[0;32m   <a href='file:///c%3A/Users/marku/.conda/envs/krafthack/lib/site-packages/pandas/core/internals/managers.py?line=1686'>1687</a>\u001b[0m         \u001b[39mself\u001b[39m\u001b[39m.\u001b[39m_known_consolidated \u001b[39m=\u001b[39m \u001b[39mTrue\u001b[39;00m\n",
      "File \u001b[1;32m~\\.conda\\envs\\krafthack\\lib\\site-packages\\pandas\\core\\internals\\managers.py:2084\u001b[0m, in \u001b[0;36m_consolidate\u001b[1;34m(blocks)\u001b[0m\n\u001b[0;32m   <a href='file:///c%3A/Users/marku/.conda/envs/krafthack/lib/site-packages/pandas/core/internals/managers.py?line=2081'>2082</a>\u001b[0m new_blocks: \u001b[39mlist\u001b[39m[Block] \u001b[39m=\u001b[39m []\n\u001b[0;32m   <a href='file:///c%3A/Users/marku/.conda/envs/krafthack/lib/site-packages/pandas/core/internals/managers.py?line=2082'>2083</a>\u001b[0m \u001b[39mfor\u001b[39;00m (_can_consolidate, dtype), group_blocks \u001b[39min\u001b[39;00m grouper:\n\u001b[1;32m-> <a href='file:///c%3A/Users/marku/.conda/envs/krafthack/lib/site-packages/pandas/core/internals/managers.py?line=2083'>2084</a>\u001b[0m     merged_blocks \u001b[39m=\u001b[39m _merge_blocks(\n\u001b[0;32m   <a href='file:///c%3A/Users/marku/.conda/envs/krafthack/lib/site-packages/pandas/core/internals/managers.py?line=2084'>2085</a>\u001b[0m         \u001b[39mlist\u001b[39;49m(group_blocks), dtype\u001b[39m=\u001b[39;49mdtype, can_consolidate\u001b[39m=\u001b[39;49m_can_consolidate\n\u001b[0;32m   <a href='file:///c%3A/Users/marku/.conda/envs/krafthack/lib/site-packages/pandas/core/internals/managers.py?line=2085'>2086</a>\u001b[0m     )\n\u001b[0;32m   <a href='file:///c%3A/Users/marku/.conda/envs/krafthack/lib/site-packages/pandas/core/internals/managers.py?line=2086'>2087</a>\u001b[0m     new_blocks \u001b[39m=\u001b[39m extend_blocks(merged_blocks, new_blocks)\n\u001b[0;32m   <a href='file:///c%3A/Users/marku/.conda/envs/krafthack/lib/site-packages/pandas/core/internals/managers.py?line=2087'>2088</a>\u001b[0m \u001b[39mreturn\u001b[39;00m new_blocks\n",
      "File \u001b[1;32m~\\.conda\\envs\\krafthack\\lib\\site-packages\\pandas\\core\\internals\\managers.py:2111\u001b[0m, in \u001b[0;36m_merge_blocks\u001b[1;34m(blocks, dtype, can_consolidate)\u001b[0m\n\u001b[0;32m   <a href='file:///c%3A/Users/marku/.conda/envs/krafthack/lib/site-packages/pandas/core/internals/managers.py?line=2103'>2104</a>\u001b[0m new_values: ArrayLike\n\u001b[0;32m   <a href='file:///c%3A/Users/marku/.conda/envs/krafthack/lib/site-packages/pandas/core/internals/managers.py?line=2105'>2106</a>\u001b[0m \u001b[39mif\u001b[39;00m \u001b[39misinstance\u001b[39m(blocks[\u001b[39m0\u001b[39m]\u001b[39m.\u001b[39mdtype, np\u001b[39m.\u001b[39mdtype):\n\u001b[0;32m   <a href='file:///c%3A/Users/marku/.conda/envs/krafthack/lib/site-packages/pandas/core/internals/managers.py?line=2106'>2107</a>\u001b[0m     \u001b[39m# error: List comprehension has incompatible type List[Union[ndarray,\u001b[39;00m\n\u001b[0;32m   <a href='file:///c%3A/Users/marku/.conda/envs/krafthack/lib/site-packages/pandas/core/internals/managers.py?line=2107'>2108</a>\u001b[0m     \u001b[39m# ExtensionArray]]; expected List[Union[complex, generic,\u001b[39;00m\n\u001b[0;32m   <a href='file:///c%3A/Users/marku/.conda/envs/krafthack/lib/site-packages/pandas/core/internals/managers.py?line=2108'>2109</a>\u001b[0m     \u001b[39m# Sequence[Union[int, float, complex, str, bytes, generic]],\u001b[39;00m\n\u001b[0;32m   <a href='file:///c%3A/Users/marku/.conda/envs/krafthack/lib/site-packages/pandas/core/internals/managers.py?line=2109'>2110</a>\u001b[0m     \u001b[39m# Sequence[Sequence[Any]], SupportsArray]]\u001b[39;00m\n\u001b[1;32m-> <a href='file:///c%3A/Users/marku/.conda/envs/krafthack/lib/site-packages/pandas/core/internals/managers.py?line=2110'>2111</a>\u001b[0m     new_values \u001b[39m=\u001b[39m np\u001b[39m.\u001b[39;49mvstack([b\u001b[39m.\u001b[39;49mvalues \u001b[39mfor\u001b[39;49;00m b \u001b[39min\u001b[39;49;00m blocks])  \u001b[39m# type: ignore[misc]\u001b[39;00m\n\u001b[0;32m   <a href='file:///c%3A/Users/marku/.conda/envs/krafthack/lib/site-packages/pandas/core/internals/managers.py?line=2111'>2112</a>\u001b[0m \u001b[39melse\u001b[39;00m:\n\u001b[0;32m   <a href='file:///c%3A/Users/marku/.conda/envs/krafthack/lib/site-packages/pandas/core/internals/managers.py?line=2112'>2113</a>\u001b[0m     bvals \u001b[39m=\u001b[39m [blk\u001b[39m.\u001b[39mvalues \u001b[39mfor\u001b[39;00m blk \u001b[39min\u001b[39;00m blocks]\n",
      "File \u001b[1;32m<__array_function__ internals>:5\u001b[0m, in \u001b[0;36mvstack\u001b[1;34m(*args, **kwargs)\u001b[0m\n",
      "File \u001b[1;32m~\\.conda\\envs\\krafthack\\lib\\site-packages\\numpy\\core\\shape_base.py:282\u001b[0m, in \u001b[0;36mvstack\u001b[1;34m(tup)\u001b[0m\n\u001b[0;32m    <a href='file:///c%3A/Users/marku/.conda/envs/krafthack/lib/site-packages/numpy/core/shape_base.py?line=279'>280</a>\u001b[0m \u001b[39mif\u001b[39;00m \u001b[39mnot\u001b[39;00m \u001b[39misinstance\u001b[39m(arrs, \u001b[39mlist\u001b[39m):\n\u001b[0;32m    <a href='file:///c%3A/Users/marku/.conda/envs/krafthack/lib/site-packages/numpy/core/shape_base.py?line=280'>281</a>\u001b[0m     arrs \u001b[39m=\u001b[39m [arrs]\n\u001b[1;32m--> <a href='file:///c%3A/Users/marku/.conda/envs/krafthack/lib/site-packages/numpy/core/shape_base.py?line=281'>282</a>\u001b[0m \u001b[39mreturn\u001b[39;00m _nx\u001b[39m.\u001b[39;49mconcatenate(arrs, \u001b[39m0\u001b[39;49m)\n",
      "File \u001b[1;32m<__array_function__ internals>:5\u001b[0m, in \u001b[0;36mconcatenate\u001b[1;34m(*args, **kwargs)\u001b[0m\n",
      "\u001b[1;31mKeyboardInterrupt\u001b[0m: "
     ]
    }
   ],
   "source": [
    "plot_episode = 100 # which episodes to plot\n",
    "losshistory = []\n",
    "for e in range(episodes):\n",
    "    # zero gradients out:\n",
    "    net.zero_grad() \n",
    "    # sample a batch:\n",
    "    x, y = sample(df, nans, targets, inputlength, batchsize, device=net.device)\n",
    "    # predict:\n",
    "    y_pred = net(x)      \n",
    "    # calculate losses:\n",
    "    loss = loss_fn(y_pred, y)\n",
    "    # backpropagation:\n",
    "    loss.backward()\n",
    "    optim.step()       \n",
    "    # save losses:\n",
    "    losshistory.append(loss.detach().cpu().numpy())  \n",
    "    if e % plot_episode == 0:\n",
    "        print(f'episode {e+1}: {losshistory[-1]}')\n"
   ]
  }
 ],
 "metadata": {
  "interpreter": {
   "hash": "148f2881cd2393bab8d79b0d26af308304489d77611745ff9c0b4e918f13d152"
  },
  "kernelspec": {
   "display_name": "Python 3.9.7 ('krafthack')",
   "language": "python",
   "name": "python3"
  },
  "language_info": {
   "codemirror_mode": {
    "name": "ipython",
    "version": 3
   },
   "file_extension": ".py",
   "mimetype": "text/x-python",
   "name": "python",
   "nbconvert_exporter": "python",
   "pygments_lexer": "ipython3",
   "version": "3.9.7"
  },
  "orig_nbformat": 4
 },
 "nbformat": 4,
 "nbformat_minor": 2
}
