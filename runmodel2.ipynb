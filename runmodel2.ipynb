{
 "cells": [
  {
   "cell_type": "code",
   "execution_count": 1,
   "metadata": {},
   "outputs": [],
   "source": [
    "import utils.datareader as datareader\n",
    "import utils.visualizer as visualizer\n",
    "from models.transformer import *"
   ]
  },
  {
   "cell_type": "code",
   "execution_count": 7,
   "metadata": {},
   "outputs": [],
   "source": [
    "datafolder = 'C://Users//marku//Desktop//krafthack_files'\n",
    "\n",
    "targets = [f'Bolt_{n+1}_Tensile' for n in range(6)]\n",
    "learning_rate = 3e-3 # optimizer\n",
    "learning_rate_annealing = 1e-5 # how much the learning rate is annealed every episode\n",
    "episodes = 5000 # how often it is iterated over the entire dataset\n",
    "inputlength = 100\n",
    "batchsize = 50\n",
    "\n",
    "num_layers=3\n",
    "dropout=0. \n",
    "no_heads=4\n",
    "hidden_size=no_heads*2*5\n"
   ]
  },
  {
   "cell_type": "markdown",
   "metadata": {},
   "source": [
    "Read and scale datasets:"
   ]
  },
  {
   "cell_type": "code",
   "execution_count": 3,
   "metadata": {},
   "outputs": [],
   "source": [
    "df, dfT = datareader.df_from_folder(datafolder)\n",
    "df, dfT, scaler = datareader.normalize_input(df, dfT)\n",
    "\n",
    "features = list(dfT.columns) # find features"
   ]
  },
  {
   "cell_type": "markdown",
   "metadata": {},
   "source": [
    "Remove overhead data, find the nan timestamps and mask nans:"
   ]
  },
  {
   "cell_type": "code",
   "execution_count": 4,
   "metadata": {},
   "outputs": [],
   "source": [
    "# remove overhead:\n",
    "df = df[targets+features] \n",
    "# find nan timestamps:\n",
    "nans = np.array(df[targets].isna().product(1)) * np.arange(df.shape[0]) \n",
    "nans = nans[nans != 0]\n",
    "# mask nans:\n",
    "df = df.fillna(0)\n",
    "dfT = dfT.fillna(0)"
   ]
  },
  {
   "cell_type": "markdown",
   "metadata": {},
   "source": [
    "Set up model:"
   ]
  },
  {
   "cell_type": "code",
   "execution_count": 9,
   "metadata": {},
   "outputs": [],
   "source": [
    "net = Network(df.shape[1], len(targets), hidden_size=hidden_size, num_layers=num_layers, dropout=dropout, no_heads=no_heads, maxlen=inputlength)\n",
    "net.train() # starting in training mode\n",
    "optim = torch.optim.Rprop(net.parameters(), lr=learning_rate)\n",
    "loss_fn = nn.MSELoss()"
   ]
  },
  {
   "cell_type": "code",
   "execution_count": 10,
   "metadata": {},
   "outputs": [
    {
     "name": "stdout",
     "output_type": "stream",
     "text": [
      "episode 1: 0.3590555787086487\n",
      "episode 2: 13.63988971710205\n",
      "episode 3: 2.7828145027160645\n",
      "episode 4: 3.541452646255493\n",
      "episode 5: 10.948371887207031\n",
      "episode 6: 0.48356160521507263\n",
      "episode 7: 1.847572922706604\n",
      "episode 8: 0.4560913145542145\n",
      "episode 9: 1.326471209526062\n",
      "episode 10: 0.506493330001831\n",
      "episode 11: 0.05032346770167351\n",
      "episode 12: 0.11772862821817398\n",
      "episode 13: 0.03836246579885483\n",
      "episode 14: 0.04962113872170448\n",
      "episode 15: 0.04805099591612816\n",
      "episode 16: 0.02248874120414257\n",
      "episode 17: 0.028128981590270996\n",
      "episode 18: 0.022768229246139526\n",
      "episode 19: 0.012055747210979462\n",
      "episode 20: 0.013921265490353107\n",
      "episode 21: 0.011746985837817192\n",
      "episode 22: 0.008911716751754284\n",
      "episode 23: 0.009944911114871502\n",
      "episode 24: 0.00877051055431366\n",
      "episode 25: 0.00857184361666441\n",
      "episode 26: 0.007870589382946491\n",
      "episode 27: 0.008783848956227303\n",
      "episode 28: 0.006793079432100058\n",
      "episode 29: 0.010514836758375168\n",
      "episode 30: 0.008089403621852398\n",
      "episode 31: 0.007827186957001686\n",
      "episode 32: 0.008166001178324223\n",
      "episode 33: 0.010499153286218643\n",
      "episode 34: 0.008529593236744404\n",
      "episode 35: 0.007937725633382797\n",
      "episode 36: 0.006604699417948723\n",
      "episode 37: 0.009353617206215858\n",
      "episode 38: 0.009108026511967182\n",
      "episode 39: 0.009762865491211414\n",
      "episode 40: 0.009342571720480919\n",
      "episode 41: 0.010383670218288898\n",
      "episode 42: 0.011302981525659561\n",
      "episode 43: 0.007864696905016899\n",
      "episode 44: 0.010247230529785156\n",
      "episode 45: 0.009011711925268173\n",
      "episode 46: 0.008714972995221615\n",
      "episode 47: 0.010202737525105476\n",
      "episode 48: 0.007049545645713806\n",
      "episode 49: 0.0103587806224823\n",
      "episode 50: 0.009963925927877426\n",
      "episode 51: 0.009155496954917908\n",
      "episode 52: 0.008910390548408031\n",
      "episode 53: 0.015970855951309204\n",
      "episode 54: 0.010377788916230202\n",
      "episode 55: 0.008056328631937504\n",
      "episode 56: 0.010746339336037636\n",
      "episode 57: 0.009172904305160046\n",
      "episode 58: 3.173933744430542\n",
      "episode 59: 0.6676942110061646\n"
     ]
    },
    {
     "ename": "KeyboardInterrupt",
     "evalue": "",
     "output_type": "error",
     "traceback": [
      "\u001b[1;31m---------------------------------------------------------------------------\u001b[0m",
      "\u001b[1;31mKeyboardInterrupt\u001b[0m                         Traceback (most recent call last)",
      "\u001b[1;32mc:\\Users\\marku\\Documents\\GitHub\\krafthack\\runmodel2.ipynb Cell 9'\u001b[0m in \u001b[0;36m<cell line: 3>\u001b[1;34m()\u001b[0m\n\u001b[0;32m      <a href='vscode-notebook-cell:/c%3A/Users/marku/Documents/GitHub/krafthack/runmodel2.ipynb#ch0000008?line=4'>5</a>\u001b[0m net\u001b[39m.\u001b[39mzero_grad() \n\u001b[0;32m      <a href='vscode-notebook-cell:/c%3A/Users/marku/Documents/GitHub/krafthack/runmodel2.ipynb#ch0000008?line=5'>6</a>\u001b[0m \u001b[39m# sample a batch:\u001b[39;00m\n\u001b[1;32m----> <a href='vscode-notebook-cell:/c%3A/Users/marku/Documents/GitHub/krafthack/runmodel2.ipynb#ch0000008?line=6'>7</a>\u001b[0m x, y \u001b[39m=\u001b[39m sample(df, nans, targets, inputlength, batchsize, device\u001b[39m=\u001b[39;49mnet\u001b[39m.\u001b[39;49mdevice)\n\u001b[0;32m      <a href='vscode-notebook-cell:/c%3A/Users/marku/Documents/GitHub/krafthack/runmodel2.ipynb#ch0000008?line=7'>8</a>\u001b[0m \u001b[39m# predict:\u001b[39;00m\n\u001b[0;32m      <a href='vscode-notebook-cell:/c%3A/Users/marku/Documents/GitHub/krafthack/runmodel2.ipynb#ch0000008?line=8'>9</a>\u001b[0m y_pred \u001b[39m=\u001b[39m net(x)      \n",
      "File \u001b[1;32mc:\\Users\\marku\\Documents\\GitHub\\krafthack\\models\\transformer.py:56\u001b[0m, in \u001b[0;36msample\u001b[1;34m(data, nans, targets, inputlength, batchsize, device, importance)\u001b[0m\n\u001b[0;32m     <a href='file:///c%3A/Users/marku/Documents/GitHub/krafthack/models/transformer.py?line=53'>54</a>\u001b[0m \u001b[39m# sample the indexes:\u001b[39;00m\n\u001b[0;32m     <a href='file:///c%3A/Users/marku/Documents/GitHub/krafthack/models/transformer.py?line=54'>55</a>\u001b[0m indexes \u001b[39m=\u001b[39m np\u001b[39m.\u001b[39marange(inputlength, data\u001b[39m.\u001b[39mshape[\u001b[39m0\u001b[39m] \u001b[39m-\u001b[39m \u001b[39m1\u001b[39m) \u001b[39m# possible indexes to choose from\u001b[39;00m\n\u001b[1;32m---> <a href='file:///c%3A/Users/marku/Documents/GitHub/krafthack/models/transformer.py?line=55'>56</a>\u001b[0m indexes \u001b[39m=\u001b[39m np\u001b[39m.\u001b[39marray(\u001b[39mlist\u001b[39;49m(\u001b[39mset\u001b[39;49m(indexes)\u001b[39m.\u001b[39;49mdifference(nans)))\n\u001b[0;32m     <a href='file:///c%3A/Users/marku/Documents/GitHub/krafthack/models/transformer.py?line=56'>57</a>\u001b[0m probabilities \u001b[39m=\u001b[39m np\u001b[39m.\u001b[39mexp(importance\u001b[39m*\u001b[39mindexes \u001b[39m/\u001b[39m indexes\u001b[39m.\u001b[39mshape[\u001b[39m0\u001b[39m])\n\u001b[0;32m     <a href='file:///c%3A/Users/marku/Documents/GitHub/krafthack/models/transformer.py?line=57'>58</a>\u001b[0m probabilities \u001b[39m/\u001b[39m\u001b[39m=\u001b[39m probabilities\u001b[39m.\u001b[39msum()\n",
      "\u001b[1;31mKeyboardInterrupt\u001b[0m: "
     ]
    }
   ],
   "source": [
    "plot_episode = 100 # which episodes to plot\n",
    "losshistory = []\n",
    "for e in range(episodes):\n",
    "    # zero gradients out:\n",
    "    net.zero_grad() \n",
    "    # sample a batch:\n",
    "    x, y = sample(df, nans, targets, inputlength, batchsize, device=net.device)\n",
    "    # predict:\n",
    "    y_pred = net(x)      \n",
    "    # calculate losses:\n",
    "    loss = loss_fn(y_pred, y)\n",
    "    # backpropagation:\n",
    "    loss.backward()\n",
    "    optim.step()       \n",
    "    # save losses:\n",
    "    losshistory.append(loss.detach().cpu().numpy())  \n",
    "    print(f'episode {e+1}: {losshistory[-1]}')\n",
    "    # anneal learning rate:\n",
    "    for g in optim.param_groups:\n",
    "        g['lr'] = g['lr'] * (1 - learning_rate_annealing)\n",
    "\n"
   ]
  }
 ],
 "metadata": {
  "interpreter": {
   "hash": "148f2881cd2393bab8d79b0d26af308304489d77611745ff9c0b4e918f13d152"
  },
  "kernelspec": {
   "display_name": "Python 3.9.7 ('krafthack')",
   "language": "python",
   "name": "python3"
  },
  "language_info": {
   "codemirror_mode": {
    "name": "ipython",
    "version": 3
   },
   "file_extension": ".py",
   "mimetype": "text/x-python",
   "name": "python",
   "nbconvert_exporter": "python",
   "pygments_lexer": "ipython3",
   "version": "3.9.7"
  },
  "orig_nbformat": 4
 },
 "nbformat": 4,
 "nbformat_minor": 2
}
